{
 "cells": [
  {
   "cell_type": "code",
   "execution_count": 2,
   "id": "22d57a63-e937-4519-9728-6e2a66fec9b9",
   "metadata": {},
   "outputs": [],
   "source": [
    "import os\n",
    "\n",
    "from qiskit import BasicAer, execute\n",
    "from qiskit.circuit import QuantumRegister, ClassicalRegister, QuantumCircuit\n",
    "\n",
    "from quantuminspire.credentials import get_authentication\n",
    "from quantuminspire.qiskit import QI\n",
    "\n",
    "QI_URL = os.getenv('42ca57206e553107fd2180b65ab21c3764c70e5a', 'https://api.quantum-inspire.com/')\n",
    "\n",
    "\n",
    "authentication = get_authentication()\n",
    "QI.set_authentication(authentication, QI_URL)\n",
    "qi_backend = QI.get_backend('QX single-node simulator')"
   ]
  },
  {
   "cell_type": "code",
   "execution_count": 3,
   "id": "a85ead05-8b43-4c7d-9d2d-cfb5cf27f1e0",
   "metadata": {},
   "outputs": [],
   "source": [
    "import random\n",
    "from random import getrandbits"
   ]
  },
  {
   "cell_type": "code",
   "execution_count": 27,
   "id": "4a370487-492e-4701-ad5d-948e9c3de3c6",
   "metadata": {},
   "outputs": [],
   "source": [
    "# Creating Alice's Bits and Bases\n",
    "global qkd\n",
    "def alice(length):\n",
    "    alice_bits = []\n",
    "    alice_bases = []\n",
    "    global Length\n",
    "    Length = length\n",
    "    \n",
    "    #BIT GENERATION\n",
    "    for i in range(length):\n",
    "        alice_bits.append(getrandbits(1))\n",
    "        \n",
    "        # 0 means encode in the Z basis and 1 means encode in the X,Y basis\n",
    "        alice_bases.append(getrandbits(1))\n",
    "    print(len(alice_bases))\n",
    "        \n",
    "\n",
    "    encoded_qubits = [] #an array of qc circuits with 1 qubit each\n",
    "    for i in range(length):\n",
    "        # create a brand new quantum circuit called qc\n",
    "        qc = QuantumCircuit(1,1)\n",
    "\n",
    "        if alice_bases[i] == 0:\n",
    "            # 0 Means we are encoding in the z basis\n",
    "            if alice_bits[i] == 0:\n",
    "                # We want to encode a |0> state, as states are intialized\n",
    "                # in |0> by default we don't need to add anything here\n",
    "                pass\n",
    "            \n",
    "            elif alice_bits[i] == 1:\n",
    "                # We want to encode a |1> state\n",
    "                # We apply an X gate to generate |1>\n",
    "                qc.x(0)\n",
    "                \n",
    "        elif alice_bases[i] == 1:\n",
    "            # 1 Means we are encoding in the x basis\n",
    "            if alice_bits[i] == 0:\n",
    "                # We apply an H gate to generate |+>\n",
    "                qc.h(0)\n",
    "            elif alice_bits[i] == 1:\n",
    "                # We apply an X and an H gate to generate |->\n",
    "                qc.x(0)\n",
    "                qc.h(0)\n",
    "            \n",
    "        # add this quantum circuit to the list of encoded_qubits\n",
    "        encoded_qubits.append(qc)\n",
    "        \n",
    "        global alice_bases_xz\n",
    "        alice_bases_xz = []\n",
    "        for i in range(length):\n",
    "            if(alice_bases[i] == 0):\n",
    "                alice_bases_xz.append(\"Z\")\n",
    "            else:\n",
    "                alice_bases_xz.append(\"X\")\n",
    "    return encoded_qubits\n",
    "\n",
    "def key(length, bob_bitstring, measure_bases):\n",
    "    #Converting Alice Bases from 0,1 to X, Z \n",
    "    c_KEY = []\n",
    "    for x in range(length):\n",
    "        if (alice_bases_xz[x] == measure_bases[x]):\n",
    "            c_KEY.append(bob_bitstring[x])\n",
    "            \n",
    "    return c_KEY\n",
    "\n",
    "def bowser_key(c_KEY): \n",
    "    x = []\n",
    "    if len(c_KEY) >=3:\n",
    "        #Replace 1 of Key values\n",
    "        for i in range(len(c_KEY)):\n",
    "            x.append(i)\n",
    "        y = random.randint(0,len(c_KEY)-1)\n",
    "        corrupted_key = c_KEY\n",
    "        if c_KEY[y] == '0':\n",
    "            corrupted_key[y] = '1'\n",
    "        else:\n",
    "            corrupted_key[y] = '0'\n",
    "        x.pop(y)\n",
    "        \n",
    "        #Replace second key value\n",
    "        y = random.randint(0,len(c_KEY)-1)\n",
    "        corrupted_key = c_KEY\n",
    "        if c_KEY[y] == '0':\n",
    "            corrupted_key[y] = '1'\n",
    "        else:\n",
    "            corrupted_key[y] = '0'\n",
    "        \n",
    "        return corrupted_key\n",
    "    \n",
    "    elif len(c_KEY)>1:\n",
    "        y = getrandbits(1)\n",
    "        corrupted_key = c_KEY\n",
    "        if c_KEY[y] == '0':\n",
    "            corrupted_key[y] = '1'\n",
    "        else:\n",
    "            corrupted_key[y] = '0'\n",
    "        \n",
    "        return corrupted_key\n",
    "    \n",
    "    elif len(c_KEY)==1:\n",
    "        corrupted_key = c_KEY\n",
    "        if c_KEY[0] == '0':\n",
    "            corrupted_key[0] = '1'\n",
    "        else:\n",
    "            corrupted_key[0] = '0'\n",
    "        \n",
    "        return corrupted_key\n",
    "        \n",
    "    \n",
    "    else:\n",
    "        while len(c_KEY) == 0:\n",
    "            enc_q = alice(length)\n",
    "            measure_bases = select_measurement()\n",
    "            x = b_measure(measure_bases, enc_q, qi_backend)\n",
    "            c_KEY = key(length, x, measure_bases)\n",
    "        "
   ]
  },
  {
   "cell_type": "code",
   "execution_count": 25,
   "id": "d8491100-eea5-41aa-8975-5ac229193937",
   "metadata": {},
   "outputs": [],
   "source": [
    "#note: when running function, code must be \"measure_bases = ''.join(select_measurement())\"\n",
    "#user inputted bases\n",
    "global measure_bases\n",
    "def select_measurement():\n",
    "    print(\"Choose 5 bases to measure in using 'Z' and 'X'.\\n Z represents the Z basis and X the X basis\")\n",
    "    #changes string input to an array\n",
    "    measure_bases = [c for c in input(\"Input your bases: \")] \n",
    "  #if there are not 5 bases\n",
    "    while len(measure_bases) != 5:\n",
    "        measure_bases = [c for c in input(\"you did not input 5 bases. Try again: \")]\n",
    "        #if bases are not Zs and Xs\n",
    "        for x in range(length):\n",
    "            while measure_bases[x] != 'Z' and measure_bases[x] != 'X':\n",
    "                measure_bases = [c for c in input(\"you did not input X or Z. Try again: \")]\n",
    "    return measure_bases\n",
    "\n",
    "\n",
    "def b_measure(measure_bases, encoded_qubits, backend):\n",
    "    # Perform measurement on the qubits send by Alice\n",
    "    # selected_measurements: \n",
    "    # encoded_qubits: list of QuantumCircuits received from Alice\n",
    "    # backend: IBMQ backend, either simulation or hardware\n",
    "    \n",
    "    # Stores the results of Bob's measurements\n",
    "    bob_bitstring = ''\n",
    "    #measure_bases = ''.join(measure_bases)\n",
    "    bob_mlist = []\n",
    "    for i in range(Length): #global Length variable = input number of qubits from user\n",
    "        qc = encoded_qubits[i]\n",
    "        \n",
    "        if measure_bases[i] == \"Z\":\n",
    "            #change string value to measurement basis\n",
    "            #qc.measure(0,0)\n",
    "            pass\n",
    "\n",
    "        elif measure_bases[i] == \"X\":\n",
    "            # change X to measurement basis\n",
    "            qc.h(0)\n",
    "            #qc.measure(0,0)\n",
    "        job = execute(qc, backend=backend, shots = 1) # increase shots if running on hardware\n",
    "        results = job.result()\n",
    "        counts = results.get_counts()\n",
    "        measured_bit = max(counts, key=counts.get)\n",
    "\n",
    "        # Append measured bit to Bob's measured bitstring\n",
    "        bob_bitstring += measured_bit \n",
    "            \n",
    "        \n",
    "    return bob_bitstring\n",
    "\n",
    "def QKD(length):\n",
    "    bowser_involved = getrandbits(1) #random for whether or not Bowser has access to the quantum channel\n",
    "    \n",
    "    enc_q = alice(length)\n",
    "    measure_bases = select_measurement()\n",
    "    x = b_measure(measure_bases, enc_q, qi_backend)\n",
    "    c_KEY = key(length, x, measure_bases)\n",
    "        \n",
    "    if bowser_involved == 0:\n",
    "        corrupted_key = bowser_key(c_KEY)\n",
    "        channel_secure = True\n",
    "        return corrupted_key, c_KEY, channel_secure\n",
    "    \n",
    "    else:\n",
    "        channel_secure = False\n",
    "        corrupted_key = []\n",
    "        for i in range(len(c_KEY)):\n",
    "            corrupted_key.append(getrandbits(1))\n",
    "        return c_KEY, corrupted_key, channel_secure\n",
    "        \n",
    "    \n",
    "def compromised_guess(c_KEY, corrupted_key, channel_secure):\n",
    "    #c_KEY = the final key AFTER checking which gates don't match up and deleting the bits that don't match\n",
    "    #corrupted_key = the correct key that has been modified\n",
    "    \n",
    "    print(\"Here are Alice's bits: \" + str(c_KEY))\n",
    "    print(\"Here are your bits: \" + str(corrupted_key))\n",
    "    guess = input(\"Do you believe that the quantum channel has been compromised? Answer 'YES' or 'NO'\")\n",
    "   \n",
    "    if (guess == 'YES') or (guess == \"yes\") or (guess == \"Yes\"):\n",
    "        while (guess == 'YES'):\n",
    "            bowser_involved = getrandbits(1) #random for whether or not Bowser has access to the quantum channel\n",
    "            \n",
    "            print(\"Don't forget, it could also just be some Quantum Noise!\")\n",
    "            enc_q = alice(length)\n",
    "            measure_bases = select_measurement()\n",
    "            x = b_measure(measure_bases, enc_q, qi_backend)\n",
    "            c_KEY = key(length, x, measure_bases)\n",
    "\n",
    "            if bowser_involved == 0:\n",
    "                corrupted_key = bowser_key(c_KEY)\n",
    "                channel_secure = True\n",
    "                return corrupted_key, c_KEY, channel_secure\n",
    "\n",
    "            else:\n",
    "                channel_secure = False\n",
    "                corrupted_key = []\n",
    "                for i in range(len(c_KEY)):\n",
    "                    corrupted_key.append(getrandbits(1))\n",
    "            print(\"Here are Alice's bits: \" + str(c_KEY))\n",
    "            print(\"Here are your bits: \" + str(corrupted_key))\n",
    "            guess = input(\"Do you believe that the quantum channel has been compromised? Answer 'YES' or 'NO'\")\n",
    "        \n",
    "        \n",
    "    if (guess == 'NO') or (guess == \"No\") or (guess == \"no\"):\n",
    "        pass\n",
    "        \n",
    "    if channel_secure == True:\n",
    "        qkd = True\n",
    "    \n",
    "    else:\n",
    "        qkd = False\n",
    "\n",
    "    return qkd\n",
    "        \n",
    "def level_1(length):\n",
    "    c_KEY, corrupted_key, channel_secure = QKD(length)\n",
    "    qkd = compromised_guess(c_KEY, corrupted_key, channel_secure)\n",
    "    \n",
    "    #TRIVIA = = = (GET CODE!)\n",
    "\n",
    "def level_2(length):\n",
    "    c_KEY, corrupted_key, channel_secure = QKD(length)\n",
    "    qkd = compromised_guess(c_KEY, corrupted_key, channel_secure)\n",
    "    \n",
    "    #(GET CODE!)\n",
    "    \n",
    "def level_3(length):\n",
    "    c_KEY, corrupted_key, channel_secure = QKD(length)\n",
    "    qkd = compromised_guess(c_KEY, corrupted_key, channel_secure)\n",
    "    \n",
    "    #(GET CODE!)\n",
    "    \n",
    "    #INSERT FINAL BIG CHALLENGE TO DEFEAT BOWSER!"
   ]
  },
  {
   "cell_type": "code",
   "execution_count": null,
   "id": "3ca13057-0ace-40c0-a55f-0fe3640b3c8f",
   "metadata": {},
   "outputs": [],
   "source": []
  },
  {
   "cell_type": "code",
   "execution_count": 26,
   "id": "afe65b19-723b-47e7-bbb2-b464408ec9d4",
   "metadata": {},
   "outputs": [
    {
     "name": "stdin",
     "output_type": "stream",
     "text": [
      "Do you want to play QuantuMario? Answer 'YES' or 'NO'  YES\n"
     ]
    },
    {
     "name": "stdout",
     "output_type": "stream",
     "text": [
      "5\n",
      "Choose 5 bases to measure in using 'Z' and 'X'.\n",
      " Z represents the Z basis and X the X basis\n"
     ]
    },
    {
     "name": "stdin",
     "output_type": "stream",
     "text": [
      "Input your bases:  XXXXX\n"
     ]
    },
    {
     "name": "stdout",
     "output_type": "stream",
     "text": [
      "Here are Alice's bits: ['0', '1', '1']\n",
      "Here are your bits: [1, 0, 1]\n"
     ]
    },
    {
     "name": "stdin",
     "output_type": "stream",
     "text": [
      "Do you believe that the quantum channel has been compromised? Answer 'YES' or 'NO' YES\n"
     ]
    },
    {
     "name": "stdout",
     "output_type": "stream",
     "text": [
      "Don't forget, it could also just be some Quantum Noise!\n",
      "5\n",
      "Choose 5 bases to measure in using 'Z' and 'X'.\n",
      " Z represents the Z basis and X the X basis\n"
     ]
    },
    {
     "name": "stdin",
     "output_type": "stream",
     "text": [
      "Input your bases:  XXZXZ\n"
     ]
    },
    {
     "name": "stdout",
     "output_type": "stream",
     "text": [
      "Here are Alice's bits: ['1', '1', '0', '1']\n",
      "Here are your bits: [1, 0, 0, 0]\n"
     ]
    },
    {
     "name": "stdin",
     "output_type": "stream",
     "text": [
      "Do you believe that the quantum channel has been compromised? Answer 'YES' or 'NO' YES\n"
     ]
    },
    {
     "name": "stdout",
     "output_type": "stream",
     "text": [
      "Don't forget, it could also just be some Quantum Noise!\n",
      "5\n",
      "Choose 5 bases to measure in using 'Z' and 'X'.\n",
      " Z represents the Z basis and X the X basis\n"
     ]
    },
    {
     "name": "stdin",
     "output_type": "stream",
     "text": [
      "Input your bases:  ZZXZX\n"
     ]
    },
    {
     "name": "stdout",
     "output_type": "stream",
     "text": [
      "5\n",
      "Choose 5 bases to measure in using 'Z' and 'X'.\n",
      " Z represents the Z basis and X the X basis\n"
     ]
    },
    {
     "name": "stdin",
     "output_type": "stream",
     "text": [
      "Input your bases:  ZZZZX\n"
     ]
    },
    {
     "name": "stdout",
     "output_type": "stream",
     "text": [
      "5\n",
      "Choose 5 bases to measure in using 'Z' and 'X'.\n",
      " Z represents the Z basis and X the X basis\n"
     ]
    },
    {
     "name": "stdin",
     "output_type": "stream",
     "text": [
      "Input your bases:  XXZXZ\n"
     ]
    },
    {
     "name": "stdout",
     "output_type": "stream",
     "text": [
      "5\n",
      "Choose 5 bases to measure in using 'Z' and 'X'.\n",
      " Z represents the Z basis and X the X basis\n"
     ]
    },
    {
     "ename": "KeyboardInterrupt",
     "evalue": "Interrupted by user",
     "output_type": "error",
     "traceback": [
      "\u001b[0;31m---------------------------------------------------------------------------\u001b[0m",
      "\u001b[0;31mKeyboardInterrupt\u001b[0m                         Traceback (most recent call last)",
      "Input \u001b[0;32mIn [26]\u001b[0m, in \u001b[0;36m<module>\u001b[0;34m\u001b[0m\n\u001b[1;32m      4\u001b[0m \u001b[38;5;28;01mif\u001b[39;00m (game_starts \u001b[38;5;241m==\u001b[39m \u001b[38;5;124m\"\u001b[39m\u001b[38;5;124mYES\u001b[39m\u001b[38;5;124m\"\u001b[39m) \u001b[38;5;129;01mor\u001b[39;00m (game_starts \u001b[38;5;241m==\u001b[39m \u001b[38;5;124m\"\u001b[39m\u001b[38;5;124myes\u001b[39m\u001b[38;5;124m\"\u001b[39m) \u001b[38;5;129;01mor\u001b[39;00m (game_starts \u001b[38;5;241m==\u001b[39m \u001b[38;5;124m\"\u001b[39m\u001b[38;5;124mYes\u001b[39m\u001b[38;5;124m\"\u001b[39m):\n\u001b[1;32m      5\u001b[0m     \u001b[38;5;66;03m#insert on_start() aka Exposition (GET CODE!)\u001b[39;00m\n\u001b[1;32m      6\u001b[0m     \u001b[38;5;66;03m#Second Exposition = instructions (GET CODE!)\u001b[39;00m\n\u001b[1;32m      7\u001b[0m     length \u001b[38;5;241m=\u001b[39m \u001b[38;5;241m5\u001b[39m\n\u001b[0;32m----> 8\u001b[0m     \u001b[43mlevel_1\u001b[49m\u001b[43m(\u001b[49m\u001b[43mlength\u001b[49m\u001b[43m)\u001b[49m \u001b[38;5;66;03m#takes care of trivia as well\u001b[39;00m\n\u001b[1;32m      9\u001b[0m     \u001b[38;5;28mprint\u001b[39m(\u001b[38;5;124m\"\u001b[39m\u001b[38;5;124mCongratulations on passing Level 1! Now onto level 2, lets find out what mischief Bowser has been up to\u001b[39m\u001b[38;5;124m\"\u001b[39m)\n\u001b[1;32m     10\u001b[0m     level_2(length)\n",
      "Input \u001b[0;32mIn [25]\u001b[0m, in \u001b[0;36mlevel_1\u001b[0;34m(length)\u001b[0m\n\u001b[1;32m    116\u001b[0m \u001b[38;5;28;01mdef\u001b[39;00m \u001b[38;5;21mlevel_1\u001b[39m(length):\n\u001b[1;32m    117\u001b[0m     c_KEY, corrupted_key, channel_secure \u001b[38;5;241m=\u001b[39m QKD(length)\n\u001b[0;32m--> 118\u001b[0m     qkd \u001b[38;5;241m=\u001b[39m \u001b[43mcompromised_guess\u001b[49m\u001b[43m(\u001b[49m\u001b[43mc_KEY\u001b[49m\u001b[43m,\u001b[49m\u001b[43m \u001b[49m\u001b[43mcorrupted_key\u001b[49m\u001b[43m,\u001b[49m\u001b[43m \u001b[49m\u001b[43mchannel_secure\u001b[49m\u001b[43m)\u001b[49m\n",
      "Input \u001b[0;32mIn [25]\u001b[0m, in \u001b[0;36mcompromised_guess\u001b[0;34m(c_KEY, corrupted_key, channel_secure)\u001b[0m\n\u001b[1;32m     88\u001b[0m c_KEY \u001b[38;5;241m=\u001b[39m key(length, x, measure_bases)\n\u001b[1;32m     90\u001b[0m \u001b[38;5;28;01mif\u001b[39;00m bowser_involved \u001b[38;5;241m==\u001b[39m \u001b[38;5;241m0\u001b[39m:\n\u001b[0;32m---> 91\u001b[0m     corrupted_key \u001b[38;5;241m=\u001b[39m \u001b[43mbowser_key\u001b[49m\u001b[43m(\u001b[49m\u001b[43mc_KEY\u001b[49m\u001b[43m)\u001b[49m\n\u001b[1;32m     92\u001b[0m     channel_secure \u001b[38;5;241m=\u001b[39m \u001b[38;5;28;01mTrue\u001b[39;00m\n\u001b[1;32m     93\u001b[0m     \u001b[38;5;28;01mreturn\u001b[39;00m corrupted_key, c_KEY, channel_secure\n",
      "Input \u001b[0;32mIn [15]\u001b[0m, in \u001b[0;36mbowser_key\u001b[0;34m(c_KEY)\u001b[0m\n\u001b[1;32m    110\u001b[0m \u001b[38;5;28;01melse\u001b[39;00m:\n\u001b[1;32m    111\u001b[0m     \u001b[38;5;28;01mwhile\u001b[39;00m \u001b[38;5;28mlen\u001b[39m(c_KEY) \u001b[38;5;241m==\u001b[39m \u001b[38;5;241m0\u001b[39m:\n\u001b[0;32m--> 112\u001b[0m         \u001b[43mQKD\u001b[49m\u001b[43m(\u001b[49m\u001b[38;5;241;43m5\u001b[39;49m\u001b[43m)\u001b[49m\n",
      "Input \u001b[0;32mIn [25]\u001b[0m, in \u001b[0;36mQKD\u001b[0;34m(length)\u001b[0m\n\u001b[1;32m     52\u001b[0m bowser_involved \u001b[38;5;241m=\u001b[39m getrandbits(\u001b[38;5;241m1\u001b[39m) \u001b[38;5;66;03m#random for whether or not Bowser has access to the quantum channel\u001b[39;00m\n\u001b[1;32m     54\u001b[0m enc_q \u001b[38;5;241m=\u001b[39m alice(length)\n\u001b[0;32m---> 55\u001b[0m measure_bases \u001b[38;5;241m=\u001b[39m \u001b[43mselect_measurement\u001b[49m\u001b[43m(\u001b[49m\u001b[43m)\u001b[49m\n\u001b[1;32m     56\u001b[0m x \u001b[38;5;241m=\u001b[39m b_measure(measure_bases, enc_q, qi_backend)\n\u001b[1;32m     57\u001b[0m c_KEY \u001b[38;5;241m=\u001b[39m key(length, x, measure_bases)\n",
      "Input \u001b[0;32mIn [25]\u001b[0m, in \u001b[0;36mselect_measurement\u001b[0;34m()\u001b[0m\n\u001b[1;32m      5\u001b[0m   \u001b[38;5;28mprint\u001b[39m(\u001b[38;5;124m\"\u001b[39m\u001b[38;5;124mChoose 5 bases to measure in using \u001b[39m\u001b[38;5;124m'\u001b[39m\u001b[38;5;124mZ\u001b[39m\u001b[38;5;124m'\u001b[39m\u001b[38;5;124m and \u001b[39m\u001b[38;5;124m'\u001b[39m\u001b[38;5;124mX\u001b[39m\u001b[38;5;124m'\u001b[39m\u001b[38;5;124m.\u001b[39m\u001b[38;5;130;01m\\n\u001b[39;00m\u001b[38;5;124m Z represents the Z basis and X the X basis\u001b[39m\u001b[38;5;124m\"\u001b[39m)\n\u001b[1;32m      6\u001b[0m   \u001b[38;5;66;03m#changes string input to an array\u001b[39;00m\n\u001b[0;32m----> 7\u001b[0m   measure_bases \u001b[38;5;241m=\u001b[39m [c \u001b[38;5;28;01mfor\u001b[39;00m c \u001b[38;5;129;01min\u001b[39;00m \u001b[38;5;28;43minput\u001b[39;49m\u001b[43m(\u001b[49m\u001b[38;5;124;43m\"\u001b[39;49m\u001b[38;5;124;43mInput your bases: \u001b[39;49m\u001b[38;5;124;43m\"\u001b[39;49m\u001b[43m)\u001b[49m] \n\u001b[1;32m      8\u001b[0m \u001b[38;5;66;03m#if there are not 5 bases\u001b[39;00m\n\u001b[1;32m      9\u001b[0m   \u001b[38;5;28;01mwhile\u001b[39;00m \u001b[38;5;28mlen\u001b[39m(measure_bases) \u001b[38;5;241m!=\u001b[39m \u001b[38;5;241m5\u001b[39m:\n",
      "File \u001b[0;32m~/.qbraid/environments/qutech_qi_6jdv1w/pyenv/lib/python3.9/site-packages/ipykernel/kernelbase.py:1044\u001b[0m, in \u001b[0;36mKernel.raw_input\u001b[0;34m(self, prompt)\u001b[0m\n\u001b[1;32m   1040\u001b[0m \u001b[38;5;28;01mif\u001b[39;00m \u001b[38;5;129;01mnot\u001b[39;00m \u001b[38;5;28mself\u001b[39m\u001b[38;5;241m.\u001b[39m_allow_stdin:\n\u001b[1;32m   1041\u001b[0m     \u001b[38;5;28;01mraise\u001b[39;00m StdinNotImplementedError(\n\u001b[1;32m   1042\u001b[0m         \u001b[38;5;124m\"\u001b[39m\u001b[38;5;124mraw_input was called, but this frontend does not support input requests.\u001b[39m\u001b[38;5;124m\"\u001b[39m\n\u001b[1;32m   1043\u001b[0m     )\n\u001b[0;32m-> 1044\u001b[0m \u001b[38;5;28;01mreturn\u001b[39;00m \u001b[38;5;28;43mself\u001b[39;49m\u001b[38;5;241;43m.\u001b[39;49m\u001b[43m_input_request\u001b[49m\u001b[43m(\u001b[49m\n\u001b[1;32m   1045\u001b[0m \u001b[43m    \u001b[49m\u001b[38;5;28;43mstr\u001b[39;49m\u001b[43m(\u001b[49m\u001b[43mprompt\u001b[49m\u001b[43m)\u001b[49m\u001b[43m,\u001b[49m\n\u001b[1;32m   1046\u001b[0m \u001b[43m    \u001b[49m\u001b[38;5;28;43mself\u001b[39;49m\u001b[38;5;241;43m.\u001b[39;49m\u001b[43m_parent_ident\u001b[49m\u001b[43m[\u001b[49m\u001b[38;5;124;43m\"\u001b[39;49m\u001b[38;5;124;43mshell\u001b[39;49m\u001b[38;5;124;43m\"\u001b[39;49m\u001b[43m]\u001b[49m\u001b[43m,\u001b[49m\n\u001b[1;32m   1047\u001b[0m \u001b[43m    \u001b[49m\u001b[38;5;28;43mself\u001b[39;49m\u001b[38;5;241;43m.\u001b[39;49m\u001b[43mget_parent\u001b[49m\u001b[43m(\u001b[49m\u001b[38;5;124;43m\"\u001b[39;49m\u001b[38;5;124;43mshell\u001b[39;49m\u001b[38;5;124;43m\"\u001b[39;49m\u001b[43m)\u001b[49m\u001b[43m,\u001b[49m\n\u001b[1;32m   1048\u001b[0m \u001b[43m    \u001b[49m\u001b[43mpassword\u001b[49m\u001b[38;5;241;43m=\u001b[39;49m\u001b[38;5;28;43;01mFalse\u001b[39;49;00m\u001b[43m,\u001b[49m\n\u001b[1;32m   1049\u001b[0m \u001b[43m\u001b[49m\u001b[43m)\u001b[49m\n",
      "File \u001b[0;32m~/.qbraid/environments/qutech_qi_6jdv1w/pyenv/lib/python3.9/site-packages/ipykernel/kernelbase.py:1089\u001b[0m, in \u001b[0;36mKernel._input_request\u001b[0;34m(self, prompt, ident, parent, password)\u001b[0m\n\u001b[1;32m   1086\u001b[0m             \u001b[38;5;28;01mbreak\u001b[39;00m\n\u001b[1;32m   1087\u001b[0m \u001b[38;5;28;01mexcept\u001b[39;00m \u001b[38;5;167;01mKeyboardInterrupt\u001b[39;00m:\n\u001b[1;32m   1088\u001b[0m     \u001b[38;5;66;03m# re-raise KeyboardInterrupt, to truncate traceback\u001b[39;00m\n\u001b[0;32m-> 1089\u001b[0m     \u001b[38;5;28;01mraise\u001b[39;00m \u001b[38;5;167;01mKeyboardInterrupt\u001b[39;00m(\u001b[38;5;124m\"\u001b[39m\u001b[38;5;124mInterrupted by user\u001b[39m\u001b[38;5;124m\"\u001b[39m) \u001b[38;5;28;01mfrom\u001b[39;00m \u001b[38;5;28mNone\u001b[39m\n\u001b[1;32m   1090\u001b[0m \u001b[38;5;28;01mexcept\u001b[39;00m \u001b[38;5;167;01mException\u001b[39;00m:\n\u001b[1;32m   1091\u001b[0m     \u001b[38;5;28mself\u001b[39m\u001b[38;5;241m.\u001b[39mlog\u001b[38;5;241m.\u001b[39mwarning(\u001b[38;5;124m\"\u001b[39m\u001b[38;5;124mInvalid Message:\u001b[39m\u001b[38;5;124m\"\u001b[39m, exc_info\u001b[38;5;241m=\u001b[39m\u001b[38;5;28;01mTrue\u001b[39;00m)\n",
      "\u001b[0;31mKeyboardInterrupt\u001b[0m: Interrupted by user"
     ]
    }
   ],
   "source": [
    "#GAME_STARTS!!!\n",
    "game_starts = input(\"Do you want to play QuantuMario? Answer 'YES' or 'NO' \")\n",
    "global win\n",
    "if (game_starts == \"YES\") or (game_starts == \"yes\") or (game_starts == \"Yes\"):\n",
    "    #insert on_start() aka Exposition (GET CODE!)\n",
    "    #Second Exposition = instructions (GET CODE!)\n",
    "    length = 5\n",
    "    level_1(length) #takes care of trivia as well\n",
    "    print(\"Congratulations on passing Level 1! Now onto level 2, lets find out what mischief Bowser has been up to\")\n",
    "    level_2(length)\n",
    "    print(\"Congratulations on passing Level 2! Now onto level 3, lets find out what mischief Bowser has been up to\")\n",
    "    level_3(length)\n",
    "    print(\"Congratulations on passing Level 3! Now onto the Final Quantum Challenge, looks like Bowser learned the secrets of quantum mischief!\")\n",
    "    if win == True:\n",
    "        print(\"CONGRATULATIONS BLAH BLAH BLAH\")\n",
    "    \n",
    "    else:\n",
    "        print(\"Sad to see another great hero lose. . .Bowser lives on. . .\")\n",
    "\n",
    "else:\n",
    "    print(\"Sorry to hear that!\")\n",
    "    pass\n",
    "    "
   ]
  },
  {
   "cell_type": "code",
   "execution_count": null,
   "id": "fe0e50be-1975-46ce-a834-25f572a94ee7",
   "metadata": {},
   "outputs": [],
   "source": [
    "###### UPDATED JAN 30 12:23 AM"
   ]
  },
  {
   "cell_type": "code",
   "execution_count": null,
   "id": "e4ab7545-e5b9-4e86-acab-ca25f1408aae",
   "metadata": {},
   "outputs": [],
   "source": []
  },
  {
   "cell_type": "code",
   "execution_count": null,
   "id": "2f076301-cbf1-4af0-81c9-1f20d13f13d2",
   "metadata": {},
   "outputs": [],
   "source": []
  },
  {
   "cell_type": "code",
   "execution_count": null,
   "id": "05fcad84-26be-489a-b176-1d78b05ffdd0",
   "metadata": {},
   "outputs": [],
   "source": []
  }
 ],
 "metadata": {
  "kernelspec": {
   "display_name": "Python 3 [QI-SDK]",
   "language": "python",
   "name": "python3_qutech_qi_6jdv1w"
  },
  "language_info": {
   "codemirror_mode": {
    "name": "ipython",
    "version": 3
   },
   "file_extension": ".py",
   "mimetype": "text/x-python",
   "name": "python",
   "nbconvert_exporter": "python",
   "pygments_lexer": "ipython3",
   "version": "3.9.7"
  }
 },
 "nbformat": 4,
 "nbformat_minor": 5
}
